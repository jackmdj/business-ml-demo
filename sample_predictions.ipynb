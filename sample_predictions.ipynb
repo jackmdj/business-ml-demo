{
 "cells": [
  {
   "cell_type": "code",
   "execution_count": 9,
   "metadata": {},
   "outputs": [],
   "source": [
    "import joblib\n",
    "import pandas as pd"
   ]
  },
  {
   "cell_type": "code",
   "execution_count": 10,
   "metadata": {},
   "outputs": [],
   "source": [
    "class MarketingPredictor:\n",
    "    '''This class contains the logic for loading the trained timing model and product model,\n",
    "    as well as the label encoder for product names. It defines which features each model uses\n",
    "    and provides a predict method to get both the best email timing and the recommended product.'''\n",
    "\n",
    "    def __init__(self, timing_model_path, product_model_path, label_encoder_path=None):\n",
    "        # Load models and label encoder\n",
    "        self.timing_model = joblib.load(timing_model_path)\n",
    "        self.product_model = joblib.load(product_model_path)\n",
    "        self.le = joblib.load(label_encoder_path) if label_encoder_path else None\n",
    "\n",
    "        # Define the features required by the models\n",
    "        self.product_features = ['has_peak', 'has_knife', 'has_pivot']\n",
    "        self.timing_features = ['Order_Frequency', 'Average_Time_Between_Orders']\n",
    "\n",
    "    def predict(self, customer_data):\n",
    "        # Extract and prepare features for the timing model\n",
    "        timing_input = {f: customer_data[f] for f in self.timing_features}\n",
    "        timing_df = pd.DataFrame([timing_input])\n",
    "\n",
    "        # Predict the best time to send the promotional email\n",
    "        predicted_time = self.timing_model.predict(timing_df)[0]\n",
    "        \n",
    "        # Extract and prepare features for the product model\n",
    "        product_input = {f: customer_data[f] for f in self.product_features}\n",
    "        product_df = pd.DataFrame([product_input])\n",
    "\n",
    "        # Predict the next product to advertise\n",
    "        product_pred = self.product_model.predict(product_df)\n",
    "        recommended_product = self.le.inverse_transform(product_pred)[0]\n",
    "\n",
    "        return predicted_time, recommended_product\n",
    "    \n"
   ]
  },
  {
   "cell_type": "code",
   "execution_count": 11,
   "metadata": {},
   "outputs": [
    {
     "name": "stdout",
     "output_type": "stream",
     "text": [
      "The best time to send a promotional email is approximately 34 days after their last purchase, and the recommended product to advertise is 'pivot'.\n"
     ]
    }
   ],
   "source": [
    "# Create a predictor instance\n",
    "predictor = MarketingPredictor(\"rf_model.pkl\", \"product_model.pkl\", \"label_encoder.pkl\")\n",
    "\n",
    "# Define a new customer scenario with random features\n",
    "new_customer = {\n",
    "    \"Order_Frequency\": 3,\n",
    "    \"Average_Time_Between_Orders\": 100,\n",
    "    \"has_peak\": 1,\n",
    "    \"has_knife\": 1,\n",
    "    \"has_pivot\": 0\n",
    "}\n",
    "# Get predictions for this customer\n",
    "predicted_time, recommended_product = predictor.predict(new_customer)\n",
    "\n",
    "# Present the info in a sentence:\n",
    "output_sentence = f\"The best time to send a promotional email is approximately {int(predicted_time)} days after their last purchase, and the recommended product to advertise is '{recommended_product}'.\"\n",
    "\n",
    "print(output_sentence)"
   ]
  }
 ],
 "metadata": {
  "kernelspec": {
   "display_name": "venv",
   "language": "python",
   "name": "python3"
  },
  "language_info": {
   "codemirror_mode": {
    "name": "ipython",
    "version": 3
   },
   "file_extension": ".py",
   "mimetype": "text/x-python",
   "name": "python",
   "nbconvert_exporter": "python",
   "pygments_lexer": "ipython3",
   "version": "3.12.3"
  }
 },
 "nbformat": 4,
 "nbformat_minor": 2
}
